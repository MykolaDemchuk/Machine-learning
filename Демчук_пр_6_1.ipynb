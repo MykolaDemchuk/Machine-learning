{
  "nbformat": 4,
  "nbformat_minor": 0,
  "metadata": {
    "colab": {
      "provenance": []
    },
    "kernelspec": {
      "name": "python3",
      "display_name": "Python 3"
    },
    "language_info": {
      "name": "python"
    }
  },
  "cells": [
    {
      "cell_type": "code",
      "source": [
        "#Завдання 1"
      ],
      "metadata": {
        "id": "5aJtngVh7KOJ"
      },
      "execution_count": null,
      "outputs": []
    },
    {
      "cell_type": "code",
      "source": [
        "# Варіант 7"
      ],
      "metadata": {
        "id": "JdiT8WlJ963K"
      },
      "execution_count": null,
      "outputs": []
    },
    {
      "cell_type": "code",
      "execution_count": 4,
      "metadata": {
        "id": "I_FeKGdC6rEw"
      },
      "outputs": [],
      "source": [
        "from sklearn.model_selection import train_test_split\n",
        "from sklearn.svm import SVC\n",
        "from sklearn.ensemble import RandomForestClassifier\n",
        "from sklearn.datasets import load_iris"
      ]
    },
    {
      "cell_type": "code",
      "source": [
        "#Розділити дані на тренувальний та тестовий набори\n",
        "iris = load_iris()\n",
        "a = iris.data\n",
        "b = iris.target\n",
        "\n",
        "a_train, a_test, b_train, b_test = train_test_split(a, b, test_size=0.2, random_state=42)"
      ],
      "metadata": {
        "id": "LfB3CTAK7FeT"
      },
      "execution_count": 6,
      "outputs": []
    },
    {
      "cell_type": "code",
      "source": [
        "#Застосувати алгоритм SVM для класифікації даних та визначити його точність.\n",
        "svm_classifier = SVC(kernel='linear', random_state=42)\n",
        "svm_classifier.fit(a_train, b_train)\n",
        "svm_accuracy = svm_classifier.score(a_test, b_test)"
      ],
      "metadata": {
        "id": "4A5qdT1D7boT"
      },
      "execution_count": 7,
      "outputs": []
    },
    {
      "cell_type": "code",
      "source": [
        "#Застосувати Random Forest для класифікації даних та визначити його точність.\n",
        "rf_classifier = RandomForestClassifier(random_state=42)\n",
        "rf_classifier.fit(a_train, b_train)\n",
        "rf_accuracy = rf_classifier.score(a_test, b_test)"
      ],
      "metadata": {
        "id": "B1hfpkvD7rvP"
      },
      "execution_count": 8,
      "outputs": []
    },
    {
      "cell_type": "code",
      "source": [
        "#Порівняти результати обох алгоритмів та обговорити їхню ефективність.\n",
        "print(f\"SVM точність: {svm_accuracy}\")\n",
        "print(f\"Random Forest точність: {rf_accuracy}\")"
      ],
      "metadata": {
        "colab": {
          "base_uri": "https://localhost:8080/"
        },
        "id": "WpUU2ATW8Fv4",
        "outputId": "a77937df-d7fc-4811-c28f-9cee4b3313e9"
      },
      "execution_count": 10,
      "outputs": [
        {
          "output_type": "stream",
          "name": "stdout",
          "text": [
            "SVM точність: 1.0\n",
            "Random Forest точність: 1.0\n"
          ]
        }
      ]
    },
    {
      "cell_type": "code",
      "source": [
        "#Висновок: ми навчилися використовувати бібліотеку scikit-learn та її можливості. Ми використали вбудований датасет цієї бібліотеки \"Ірис\" і випробували на ньому алгоритми SVM і Random Forest."
      ],
      "metadata": {
        "id": "DGBZu08v8lFJ"
      },
      "execution_count": null,
      "outputs": []
    }
  ]
}