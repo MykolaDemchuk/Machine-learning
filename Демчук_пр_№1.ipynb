{
  "nbformat": 4,
  "nbformat_minor": 0,
  "metadata": {
    "colab": {
      "provenance": []
    },
    "kernelspec": {
      "name": "python3",
      "display_name": "Python 3"
    },
    "language_info": {
      "name": "python"
    }
  },
  "cells": [
    {
      "cell_type": "code",
      "source": [
        "#Варіант 7"
      ],
      "metadata": {
        "id": "ALk0_7YGF3uv"
      },
      "execution_count": null,
      "outputs": []
    },
    {
      "cell_type": "code",
      "execution_count": 2,
      "metadata": {
        "colab": {
          "base_uri": "https://localhost:8080/"
        },
        "id": "hBRoBFTShWb2",
        "outputId": "8d4f9f4d-eb71-4b9f-c2f2-267b8772f70b"
      },
      "outputs": [
        {
          "output_type": "stream",
          "name": "stdout",
          "text": [
            "Requirement already satisfied: numpy in /usr/local/lib/python3.10/dist-packages (1.23.5)\n"
          ]
        }
      ],
      "source": [
        "!pip install numpy"
      ]
    },
    {
      "cell_type": "code",
      "source": [
        "import numpy as np"
      ],
      "metadata": {
        "id": "0DF5AKLshcy-"
      },
      "execution_count": 3,
      "outputs": []
    },
    {
      "cell_type": "code",
      "source": [
        "#Завдання 1. Створіть одновимірний масив (вектор) зі сходячою послідовністю чисел, де кожне наступне число більше попереднього на 3, починаючи з 5, та виведіть його значення.\n",
        "poch = 5\n",
        "dovj = 20\n",
        "a = np.arange(poch, poch + dovj * 3, 3)\n",
        "print(a)"
      ],
      "metadata": {
        "colab": {
          "base_uri": "https://localhost:8080/"
        },
        "id": "YRjTzSddhl7z",
        "outputId": "dcff71ed-e70b-4475-82be-4b53330a5442"
      },
      "execution_count": null,
      "outputs": [
        {
          "output_type": "stream",
          "name": "stdout",
          "text": [
            "[ 5  8 11 14 17 20 23 26 29 32 35 38 41 44 47 50 53 56 59 62]\n"
          ]
        }
      ]
    },
    {
      "cell_type": "code",
      "source": [
        "#Завдання 2. Створіть двовимірний масив (матрицю) розміром 3x3, заповніть його добутками квадратів кожного числа та його подвійного значення, починаючи з 1, та виведіть його значення.\n",
        "poch = 1\n",
        "m = (3, 3)\n",
        "a = np.arange(poch, poch + m[0] * m[1])\n",
        "a = a.reshape(m)\n",
        "a = (a ** 2) * (2 * a)\n",
        "print(a)"
      ],
      "metadata": {
        "colab": {
          "base_uri": "https://localhost:8080/"
        },
        "id": "-ybfiUMajFpe",
        "outputId": "1abae66d-7eb9-4506-e366-05ffed2f84de"
      },
      "execution_count": null,
      "outputs": [
        {
          "output_type": "stream",
          "name": "stdout",
          "text": [
            "[[0.0743922  1.69096836 0.30568829]\n",
            " [0.07217099 0.52645666 0.60691934]\n",
            " [0.75313333 0.07627055 0.17425311]]\n"
          ]
        }
      ]
    },
    {
      "cell_type": "code",
      "source": [
        "#Завдання 3. Створіть масив розміром 10x10, заповніть його випадковими дійсними числами в діапазоні від -50 до 50 та виведіть його значення.\n",
        "m = (10, 10)\n",
        "a = np.random.randint(-50, 50, m)\n",
        "print (a)"
      ],
      "metadata": {
        "colab": {
          "base_uri": "https://localhost:8080/"
        },
        "id": "FDtqygSamNqf",
        "outputId": "5ff00457-1199-4d4c-edcf-b6d39a9f6081"
      },
      "execution_count": null,
      "outputs": [
        {
          "output_type": "stream",
          "name": "stdout",
          "text": [
            "[[ 46  48 -15  36   2  20 -18  -3  42 -20]\n",
            " [-47 -39  -9 -46  35  16 -36 -45  -5 -27]\n",
            " [-11   8  45  -7  -8 -49  19  26 -14  -6]\n",
            " [-10  45   6 -13 -13  48  48  33 -45  25]\n",
            " [  0  17  29 -27  33  -2   0  39  31  42]\n",
            " [ -2  37 -20 -47  23  12   5  -5  43 -32]\n",
            " [-47 -27   7 -25 -31  12 -45  15 -36 -34]\n",
            " [-19  29 -43   2  44 -28  45  -5  43 -22]\n",
            " [ 41  18 -13   0  49 -35 -47  34  40 -26]\n",
            " [ 44 -10  -5  21  35 -10 -45 -13 -38 -34]]\n"
          ]
        }
      ]
    },
    {
      "cell_type": "code",
      "source": [
        "#Завдання 4. Створіть масив розміром 4x4, заповніть його випадковими дійсними числами в діапазоні від 0 до 1 та знайдіть вектор-рядок, що містить середнє значення елементів кожного стовпця матриці.\n",
        "m = (4, 4)\n",
        "a = np.random.uniform(0, 1, m)\n",
        "c = np.mean(a, axis=0)\n",
        "print (c)"
      ],
      "metadata": {
        "colab": {
          "base_uri": "https://localhost:8080/"
        },
        "id": "U9Bf1M0QpBPs",
        "outputId": "5c90d61a-3d43-43fc-a0a3-d3f7e6eecedb"
      },
      "execution_count": null,
      "outputs": [
        {
          "output_type": "stream",
          "name": "stdout",
          "text": [
            "[0.47415159 0.65553848 0.21520958 0.44063699]\n"
          ]
        }
      ]
    },
    {
      "cell_type": "code",
      "source": [
        "#Завдання 5. Створіть два одновимірних масиви розміром 7, заповніть їх випадковими дійсними числами від -2.5 до 2.5 та виконайте на них поелементні операції додавання, віднімання та множення.\n",
        "dovj = 7\n",
        "poch = -2.5\n",
        "kinec = 2.5\n",
        "a1= np.random.randint(poch, kinec, dovj)\n",
        "a2= np.random.randint(poch, kinec, dovj)\n",
        "dodav = a1 + a2\n",
        "vidn = a1 - a2\n",
        "mnoz = a1 * a2\n",
        "print(\"Додавання:\", dodav)\n",
        "print(\"Віднімання:\", vidn)\n",
        "print(\"Множення:\", mnoz)"
      ],
      "metadata": {
        "id": "OGlHSt9gv-XH",
        "outputId": "b753fc3b-549f-4c5c-9ddd-0283f1d320a4",
        "colab": {
          "base_uri": "https://localhost:8080/"
        }
      },
      "execution_count": null,
      "outputs": [
        {
          "output_type": "stream",
          "name": "stdout",
          "text": [
            "Додавання: [-3  0 -1 -3  2  1 -2]\n",
            "Віднімання: [-1  2  3 -1  0  1  0]\n",
            "Множення: [ 2 -1 -2  2  1  0  1]\n"
          ]
        }
      ]
    },
    {
      "cell_type": "code",
      "source": [
        "#Завдання 6. Створіть два вектори розміром 7, заповніть їх довільними цілими числами та знайдіть їх скалярний добуток.\n",
        "v1 = np.array([4, 6, 1, 12, 16, 1, 9])\n",
        "v2 = np.array([8, 5, 29, 4, 1, 6, 2])\n",
        "s = np.dot(v1, v2)\n",
        "print(s)"
      ],
      "metadata": {
        "colab": {
          "base_uri": "https://localhost:8080/"
        },
        "id": "b-1hq3Bn2Dkk",
        "outputId": "31ffe242-94a2-42d6-d5cc-a14a3c33489b"
      },
      "execution_count": 5,
      "outputs": [
        {
          "output_type": "stream",
          "name": "stdout",
          "text": [
            "179\n"
          ]
        }
      ]
    },
    {
      "cell_type": "code",
      "source": [
        "#Завдання 7. Створіть дві матриці розміром 4x2 та 2x2, заповніть їх випадковими цілими числами в діапазоні від 1 до 10 та перемножте їх між собою.\n",
        "r1 = (4, 2)\n",
        "r2 = (2, 2)\n",
        "m1 = np.random.randint(1, 10, r1)\n",
        "m2 = np.random.randint(1, 10, r2)\n",
        "mnoz = np.dot(m1, m2)\n",
        "print(mnoz)"
      ],
      "metadata": {
        "colab": {
          "base_uri": "https://localhost:8080/"
        },
        "id": "LYniv4RU3dfu",
        "outputId": "7dee75f2-9594-4a53-ea3c-36a05b2a7114"
      },
      "execution_count": 27,
      "outputs": [
        {
          "output_type": "stream",
          "name": "stdout",
          "text": [
            "[[15 32]\n",
            " [23 74]\n",
            " [30 64]\n",
            " [24 38]]\n"
          ]
        }
      ]
    },
    {
      "cell_type": "code",
      "source": [
        "#Завдання 8. Створіть матрицю розміром 2x2, заповніть її випадковими цілими числами в діапазоні від 1 до 12 та знайдіть її обернену матрицю.\n",
        "r = (2, 2)\n",
        "m = np.random.randint(1, 12, r)\n",
        "print(m)\n",
        "m2 = np.linalg.inv(m)\n",
        "print(m2)\n",
        "#Невпевнений у правильності рішення"
      ],
      "metadata": {
        "colab": {
          "base_uri": "https://localhost:8080/"
        },
        "id": "MNKO2a8g4aU1",
        "outputId": "a7ab5f96-3642-468b-b3f9-cb0683c386d1"
      },
      "execution_count": 11,
      "outputs": [
        {
          "output_type": "stream",
          "name": "stdout",
          "text": [
            "[[8 3]\n",
            " [4 8]]\n",
            "[[ 0.15384615 -0.05769231]\n",
            " [-0.07692308  0.15384615]]\n"
          ]
        }
      ]
    },
    {
      "cell_type": "code",
      "source": [
        "#Завдання 9. Створіть матрицю розміром 3x3, заповніть її випадковими цілими числами в діапазоні від 0 до 1 та транспонуйте її.\n",
        "r = (3, 3)\n",
        "m = np.random.randint(0, 2, r)\n",
        "t = np.transpose(m)\n",
        "print(t)\n",
        "#Якщо написати (0, 1) будуть лише нулі. Я не зрозумів включно тут чи ні. Так само і в 7 та 8 завданнях."
      ],
      "metadata": {
        "colab": {
          "base_uri": "https://localhost:8080/"
        },
        "id": "VG1Vlmeo6B0y",
        "outputId": "6c8dd2bb-c391-49d7-d778-cc636ef9d139"
      },
      "execution_count": 26,
      "outputs": [
        {
          "output_type": "stream",
          "name": "stdout",
          "text": [
            "[[1 1 0]\n",
            " [0 0 0]\n",
            " [1 1 1]]\n"
          ]
        }
      ]
    },
    {
      "cell_type": "code",
      "source": [
        "#Завдання 10. Створіть матрицю розміром 3x4 та вектор розміром 4, заповніть матрицю випадковими цілими числами в діапазоні від 1 до 10, а вектор - випадковими цілими числами в діапазоні від 1 до 10, і знайдіть від'ємні елементи отриманої матриці.\n",
        "r1 = (3, 4)\n",
        "r2 = (4)\n",
        "m = np.random.randint(1, 10, r1)\n",
        "v = np.random.randint(1, 10, r2)\n",
        "minusM = m[m<0]\n",
        "minusV = v[v<0]\n",
        "print(minusM)\n",
        "print(minusV)\n",
        "#Чи повинні вони бути порожніми? Ми же створили матрицю і вектор з додатними числами."
      ],
      "metadata": {
        "colab": {
          "base_uri": "https://localhost:8080/"
        },
        "id": "mvMKE1zg7Fhr",
        "outputId": "6ffd3c45-6b6b-4870-fc87-00b5b1c15937"
      },
      "execution_count": 25,
      "outputs": [
        {
          "output_type": "stream",
          "name": "stdout",
          "text": [
            "[]\n",
            "[]\n"
          ]
        }
      ]
    },
    {
      "cell_type": "code",
      "source": [
        "#Завдання 11. Створіть матрицю розміром 2x3 та вектор розміром 3, заповніть матрицю випадковими дійсними числами від 0 до 1, а вектор - випадковими цілими числами в діапазоні від 1 до 10, і знайдіть добуток матриці на вектор.\n",
        "r1 = (2,3)\n",
        "r2 = (3)\n",
        "m = np.random.randint(0, 2, r1)\n",
        "v = np.random.randint(1, 10, r2)\n",
        "dob = np.dot(m, v)\n",
        "print(dob)"
      ],
      "metadata": {
        "colab": {
          "base_uri": "https://localhost:8080/"
        },
        "id": "NUDbxO-89NNX",
        "outputId": "3618710d-11b8-49fd-9ed5-c03f93da8539"
      },
      "execution_count": 31,
      "outputs": [
        {
          "output_type": "stream",
          "name": "stdout",
          "text": [
            "[ 8 11]\n",
            "[[1 1 0]\n",
            " [1 1 1]]\n",
            "[3 5 3]\n"
          ]
        }
      ]
    },
    {
      "cell_type": "code",
      "source": [
        "#Завдання 12. Створіть дві матриці розміром 8x8, заповніть їх випадковими цілими числами в діапазоні від 1 до 10 та знайдіть різницю елементів першої матриці.\n",
        "r = (8, 8)\n",
        "m1 = np.random.randint(1, 10, r)\n",
        "m2 = np.random.randint(1, 10, r)\n",
        "riz = m1 - m2\n",
        "print(riz)"
      ],
      "metadata": {
        "colab": {
          "base_uri": "https://localhost:8080/"
        },
        "id": "yANpCnHE_YuV",
        "outputId": "50118f92-45de-4352-967c-7a7dcef78d27"
      },
      "execution_count": 32,
      "outputs": [
        {
          "output_type": "stream",
          "name": "stdout",
          "text": [
            "[[ 4 -8 -4  4  8 -1  4 -6]\n",
            " [ 8 -3 -1 -1  0 -6  0 -2]\n",
            " [-6  2 -1  4  4  2  5  5]\n",
            " [ 0  5  5  3  2 -4  1  1]\n",
            " [ 1  0  0  0  3 -4 -2 -2]\n",
            " [-5  2 -1 -6  1  4 -1  1]\n",
            " [ 1 -7 -7 -1  3  1  3  5]\n",
            " [-2 -5  1  1 -2  3  1 -1]]\n"
          ]
        }
      ]
    },
    {
      "cell_type": "code",
      "source": [
        "#Завдання 13. Створіть дві матриці розміром 8x8, заповніть їх випадковими дійсними числами в діапазоні від -1 до 1 та знайдіть різницю їх елементів.\n",
        "r = (8, 8)\n",
        "m1 = np.random.randint(-1, 1, r)\n",
        "m2 = np.random.randint(-1, 1, r)\n",
        "riz = m1 - m2\n",
        "print(riz)"
      ],
      "metadata": {
        "colab": {
          "base_uri": "https://localhost:8080/"
        },
        "id": "Ncsfg6SAAnEU",
        "outputId": "d1c77b35-f5c8-4977-f42d-1205cea937c9"
      },
      "execution_count": 33,
      "outputs": [
        {
          "output_type": "stream",
          "name": "stdout",
          "text": [
            "[[-1  0  1 -1  1  1 -1  0]\n",
            " [ 1  1 -1  0  0  1  1 -1]\n",
            " [ 1  0 -1 -1  1  1  0  1]\n",
            " [-1  0  0 -1 -1 -1  1  1]\n",
            " [ 1  0  0  0  0  0 -1  0]\n",
            " [ 0  0  0  1 -1  0  0 -1]\n",
            " [-1  1  0  0  0 -1 -1  1]\n",
            " [ 0  0  1 -1  0 -1  1  0]]\n"
          ]
        }
      ]
    },
    {
      "cell_type": "code",
      "source": [
        "#Завдання 14. Створіть матрицю розміром 5x5, заповніть її випадковими дійсними числами в діапазоні від 0 до 1 та знайдіть середнє арифметичне значення елементів матриці.\n",
        "r = (5, 5)\n",
        "m = np.random.randint(0, 2, r)\n",
        "a = np.mean(m)\n",
        "print(a)"
      ],
      "metadata": {
        "colab": {
          "base_uri": "https://localhost:8080/"
        },
        "id": "3yjvCleCBVkx",
        "outputId": "c641ff96-1145-4251-9159-6e9abaf0ef37"
      },
      "execution_count": 38,
      "outputs": [
        {
          "output_type": "stream",
          "name": "stdout",
          "text": [
            "[[0 0 0 0 1]\n",
            " [0 0 0 0 0]\n",
            " [1 0 0 0 0]\n",
            " [1 0 1 1 1]\n",
            " [0 1 1 0 0]]\n",
            "0.32\n"
          ]
        }
      ]
    },
    {
      "cell_type": "code",
      "source": [
        "#Завдання 15. Створіть матрицю розміром 9x9, заповніть її випадковими дійсними числами в діапазоні від -0.5 до 0.5 та знайдіть вектор-стовпчик, що містить найбільше за модулем значення елементу у кожному рядку матриці.\n",
        "r = (9, 9)\n",
        "m = np.random.uniform(-0.5, 0.5, r)\n",
        "max = np.max(m, axis = 1)\n",
        "print(max)"
      ],
      "metadata": {
        "colab": {
          "base_uri": "https://localhost:8080/"
        },
        "id": "RLLhkSFOCyDx",
        "outputId": "655f9ac1-8198-495e-edd2-1a61d932ab52"
      },
      "execution_count": 45,
      "outputs": [
        {
          "output_type": "stream",
          "name": "stdout",
          "text": [
            "[0.40828238 0.11150919 0.35513035 0.3762759  0.4297291  0.13266472\n",
            " 0.45887037 0.43168066 0.42479738]\n"
          ]
        }
      ]
    },
    {
      "cell_type": "code",
      "source": [
        "#Висновок. В ції практичній роботі я навчився використовувати елементи лінійної алгебри в середовищі Python. За допомогою бібліотек Pandas та Numpy ми створювали діапазони значень(матриці та вектори) та здійснювали різноманітні операції з цими структурами даних."
      ],
      "metadata": {
        "id": "XeBX4RXJGE_a"
      },
      "execution_count": null,
      "outputs": []
    }
  ]
}